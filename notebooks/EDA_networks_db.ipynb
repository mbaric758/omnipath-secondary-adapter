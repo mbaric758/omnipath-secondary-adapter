{
 "cells": [
  {
   "cell_type": "markdown",
   "metadata": {},
   "source": [
    "# Exploratory Data Analysis: Networks Dataframe (from Omnipath database)"
   ]
  },
  {
   "cell_type": "markdown",
   "metadata": {},
   "source": [
    "[//]: # (------------------------------------------    DO NOT MODIFY THIS    ------------------------------------------)\n",
    "<style type=\"text/css\">\n",
    ".tg  {border-collapse:collapse;\n",
    "      border-spacing:0;\n",
    "     }\n",
    ".tg td{border-color:black;\n",
    "       border-style:solid;\n",
    "       border-width:1px;\n",
    "       font-family:Arial, sans-serif;\n",
    "       font-size:14px;\n",
    "       overflow:hidden;\n",
    "       padding:10px 5px;\n",
    "       word-break:normal;\n",
    "      }\n",
    ".tg th{border-color:black;\n",
    "       border-style:solid;\n",
    "       border-width:1px;\n",
    "       font-family:Arial, sans-serif;\n",
    "       font-size:14px;\n",
    "       font-weight:normal;\n",
    "       overflow:hidden;\n",
    "       padding:10px 5px;\n",
    "       word-break:normal;\n",
    "      }\n",
    ".tg .tg-fymr{border-color:inherit;\n",
    "             font-weight:bold;\n",
    "             text-align:left;\n",
    "             vertical-align:top\n",
    "            }\n",
    ".tg .tg-0pky{border-color:inherit;\n",
    "             text-align:left;\n",
    "             vertical-align:top\n",
    "            }\n",
    "[//]: # (--------------------------------------------------------------------------------------------------------------)\n",
    "\n",
    "[//]: # (-------------------------------------    FILL THIS OUT WITH YOUR DATA    -------------------------------------)\n",
    "</style>\n",
    "<table class=\"tg\">\n",
    "    <tbody>\n",
    "      <tr>\n",
    "        <td class=\"tg-fymr\" style=\"font-weight: bold\">Title:</td>\n",
    "        <td class=\"tg-0pky\">Exploratory Data Analysis: Networks Dataframe (from Omnipath database)</td>\n",
    "      </tr>\n",
    "      <tr>\n",
    "        <td class=\"tg-fymr\" style=\"font-weight: bold\">Authors:</td>\n",
    "        <td class=\"tg-0pky\">\n",
    "            <a href=\"https://github.com/ecarrenolozano\" target=\"_blank\" rel=\"noopener noreferrer\">Edwin Carreño</a>\n",
    "        </td>\n",
    "      </tr>\n",
    "      <tr>\n",
    "        <td class=\"tg-fymr\" style=\"font-weight: bold\">Affiliations:</td>\n",
    "        <td class=\"tg-0pky\">\n",
    "            <a href=\"https://www.ssc.uni-heidelberg.de/en\" target=\"_blank\" rel=\"noopener noreferrer\">Scientific Software Center</a>,\n",
    "            <a href=\"https://saezlab.org/\" target=\"_blank\" rel=\"noopener noreferrer\">Saez-Rodriguez Group</a>\n",
    "        </td>\n",
    "      </tr>\n",
    "      <tr>\n",
    "        <td class=\"tg-fymr\" style=\"font-weight: bold\">Date Created:</td>\n",
    "        <td class=\"tg-0pky\">19.03.2025</td>\n",
    "      </tr>\n",
    "      <tr>\n",
    "        <td class=\"tg-fymr\" style=\"font-weight: bold\">Description:</td>\n",
    "        <td class=\"tg-0pky\">Extraction of metadata for building database tables </td>\n",
    "      </tr>\n",
    "    </tbody>\n",
    "</table>\n",
    "\n",
    "[//]: # (--------------------------------------------------------------------------------------------------------------)"
   ]
  },
  {
   "cell_type": "markdown",
   "metadata": {},
   "source": [
    "## Overview\n",
    "\n",
    "This notebook should help to understand the information contained in the \"Networks\" dataset from the Omnipath database."
   ]
  },
  {
   "cell_type": "markdown",
   "metadata": {},
   "source": [
    "## Setup (if required)\n",
    "\n",
    "If your code require to install dependencies before your main code, please add the commands to install the dependencies."
   ]
  },
  {
   "cell_type": "markdown",
   "metadata": {},
   "source": [
    "### Pandas installation"
   ]
  },
  {
   "cell_type": "code",
   "execution_count": 5,
   "metadata": {},
   "outputs": [
    {
     "name": "stdout",
     "output_type": "stream",
     "text": [
      "Note: you may need to restart the kernel to use updated packages.\n"
     ]
    }
   ],
   "source": [
    "%pip install pandas -q"
   ]
  },
  {
   "cell_type": "markdown",
   "metadata": {
    "vscode": {
     "languageId": "plaintext"
    }
   },
   "source": [
    "## Importing Libraries\n",
    "\n",
    "Recommendations:\n",
    "\n",
    "- Respect the order of the imports, they are indicated by the numbers *1, 2, 3*.\n",
    "- One import per line is recommended, with this we can track easily any modified line when we use git.\n",
    "- Absolute imports are recommended (see *3. Local application/library specific imports* below), they improve readability and give better error messages.\n",
    "- You should put a blank line between each group of imports."
   ]
  },
  {
   "cell_type": "code",
   "execution_count": 11,
   "metadata": {},
   "outputs": [],
   "source": [
    "# 1. Standard library imports\n",
    "import os\n",
    "\n",
    "# 2. Related third party imports\n",
    "import numpy as np\n",
    "import pandas as pd\n",
    "\n",
    "# 3. Local application/library specific imports\n",
    "# import <mypackage>.<MyClass>         # this is an example\n",
    "# from <mypackage> import <MyClass>    # this is another example "
   ]
  },
  {
   "cell_type": "markdown",
   "metadata": {
    "jp-MarkdownHeadingCollapsed": true
   },
   "source": [
    "## Introduction\n",
    "\n",
    "TO DO\n"
   ]
  },
  {
   "cell_type": "markdown",
   "metadata": {},
   "source": [
    "## Section 1. Load \"Networks\" dataset"
   ]
  },
  {
   "cell_type": "markdown",
   "metadata": {},
   "source": [
    "### Section 1.1. Setting dataset path"
   ]
  },
  {
   "cell_type": "code",
   "execution_count": 45,
   "metadata": {},
   "outputs": [],
   "source": [
    "dataset_path_networks = os.path.join(\"../data/omnipath_networks/omnipath_webservice_interactions__latest.tsv.gz\")\n",
    "# dataset_path_networks = os.path.join(\"../data_testing/subset_networks_1000.tsv\")"
   ]
  },
  {
   "cell_type": "code",
   "execution_count": 31,
   "metadata": {},
   "outputs": [
    {
     "name": "stdout",
     "output_type": "stream",
     "text": [
      "This file exist? True\n"
     ]
    }
   ],
   "source": [
    "print(\"This file exist? {}\".format(os.path.exists(dataset_path_networks)))"
   ]
  },
  {
   "cell_type": "markdown",
   "metadata": {},
   "source": [
    "### Section 1.2. Load dataset as Pandas DataFrame"
   ]
  },
  {
   "cell_type": "markdown",
   "metadata": {},
   "source": [
    "#### Configuring Pandas view"
   ]
  },
  {
   "cell_type": "code",
   "execution_count": 12,
   "metadata": {},
   "outputs": [],
   "source": [
    "pd.set_option('display.max_colwidth', None)\n",
    "pd.set_option('display.max_columns', None)  "
   ]
  },
  {
   "cell_type": "markdown",
   "metadata": {},
   "source": [
    "#### Load data into Pandas Dataframe (without predefined data types)\n",
    "\n",
    "By default the option *keep_default_na* is True, it means that Pandas will interpret empty values or null values as NaN values."
   ]
  },
  {
   "cell_type": "code",
   "execution_count": 46,
   "metadata": {},
   "outputs": [
    {
     "name": "stderr",
     "output_type": "stream",
     "text": [
      "/var/folders/td/d9s7dy895jj5lyt9d7j7fy659nn74x/T/ipykernel_3960/2369902026.py:1: DtypeWarning: Columns (23,24,25,26,27) have mixed types. Specify dtype option on import or set low_memory=False.\n",
      "  networks_df = pd.read_table(dataset_path_networks, sep=\"\\t\", keep_default_na=True)\n"
     ]
    }
   ],
   "source": [
    "networks_df = pd.read_table(dataset_path_networks, sep=\"\\t\", keep_default_na=True)"
   ]
  },
  {
   "cell_type": "code",
   "execution_count": 33,
   "metadata": {
    "scrolled": true
   },
   "outputs": [
    {
     "name": "stdout",
     "output_type": "stream",
     "text": [
      "<class 'pandas.core.frame.DataFrame'>\n",
      "RangeIndex: 1000 entries, 0 to 999\n",
      "Data columns (total 36 columns):\n",
      " #   Column                 Non-Null Count  Dtype  \n",
      "---  ------                 --------------  -----  \n",
      " 0   source                 1000 non-null   object \n",
      " 1   target                 1000 non-null   object \n",
      " 2   source_genesymbol      1000 non-null   object \n",
      " 3   target_genesymbol      1000 non-null   object \n",
      " 4   is_directed            1000 non-null   int64  \n",
      " 5   is_stimulation         1000 non-null   int64  \n",
      " 6   is_inhibition          1000 non-null   int64  \n",
      " 7   consensus_direction    1000 non-null   int64  \n",
      " 8   consensus_stimulation  1000 non-null   int64  \n",
      " 9   consensus_inhibition   1000 non-null   int64  \n",
      " 10  sources                1000 non-null   object \n",
      " 11  references             987 non-null    object \n",
      " 12  omnipath               1000 non-null   bool   \n",
      " 13  kinaseextra            1000 non-null   bool   \n",
      " 14  ligrecextra            1000 non-null   bool   \n",
      " 15  pathwayextra           1000 non-null   bool   \n",
      " 16  mirnatarget            1000 non-null   bool   \n",
      " 17  dorothea               1000 non-null   bool   \n",
      " 18  collectri              1000 non-null   bool   \n",
      " 19  tf_target              1000 non-null   bool   \n",
      " 20  lncrna_mrna            1000 non-null   bool   \n",
      " 21  tf_mirna               1000 non-null   bool   \n",
      " 22  small_molecule         1000 non-null   bool   \n",
      " 23  dorothea_curated       0 non-null      float64\n",
      " 24  dorothea_chipseq       0 non-null      float64\n",
      " 25  dorothea_tfbs          0 non-null      float64\n",
      " 26  dorothea_coexp         0 non-null      float64\n",
      " 27  dorothea_level         0 non-null      float64\n",
      " 28  type                   1000 non-null   object \n",
      " 29  curation_effort        1000 non-null   int64  \n",
      " 30  extra_attrs            1000 non-null   object \n",
      " 31  evidences              1000 non-null   object \n",
      " 32  ncbi_tax_id_source     1000 non-null   int64  \n",
      " 33  entity_type_source     1000 non-null   object \n",
      " 34  ncbi_tax_id_target     1000 non-null   int64  \n",
      " 35  entity_type_target     1000 non-null   object \n",
      "dtypes: bool(11), float64(5), int64(9), object(11)\n",
      "memory usage: 206.2+ KB\n"
     ]
    }
   ],
   "source": [
    "networks_df.info()"
   ]
  },
  {
   "cell_type": "markdown",
   "metadata": {},
   "source": [
    "## Section 2. Metadata\n",
    "\n",
    "We are interested in having a table with the following information:\n",
    "\n",
    "\n",
    "- Column name.\n",
    "- Data Type.\n",
    "- A certain colum could contain null values.\n",
    "- Number of unique  values.\n",
    "\n",
    "That could be done using the next cell:"
   ]
  },
  {
   "cell_type": "markdown",
   "metadata": {},
   "source": [
    "### Section 2.1. Overview"
   ]
  },
  {
   "cell_type": "code",
   "execution_count": null,
   "metadata": {},
   "outputs": [],
   "source": []
  },
  {
   "cell_type": "markdown",
   "metadata": {},
   "source": [
    "### Section 2.2. Unique values per column"
   ]
  },
  {
   "cell_type": "code",
   "execution_count": 31,
   "metadata": {},
   "outputs": [
    {
     "data": {
      "text/html": [
       "<div>\n",
       "<style scoped>\n",
       "    .dataframe tbody tr th:only-of-type {\n",
       "        vertical-align: middle;\n",
       "    }\n",
       "\n",
       "    .dataframe tbody tr th {\n",
       "        vertical-align: top;\n",
       "    }\n",
       "\n",
       "    .dataframe thead th {\n",
       "        text-align: right;\n",
       "    }\n",
       "</style>\n",
       "<table border=\"1\" class=\"dataframe\">\n",
       "  <thead>\n",
       "    <tr style=\"text-align: right;\">\n",
       "      <th></th>\n",
       "      <th>Column Name</th>\n",
       "      <th>Data Type</th>\n",
       "      <th>Nullable</th>\n",
       "      <th>Unique Values</th>\n",
       "    </tr>\n",
       "  </thead>\n",
       "  <tbody>\n",
       "    <tr>\n",
       "      <th>0</th>\n",
       "      <td>source</td>\n",
       "      <td>object</td>\n",
       "      <td>False</td>\n",
       "      <td>27944</td>\n",
       "    </tr>\n",
       "    <tr>\n",
       "      <th>1</th>\n",
       "      <td>target</td>\n",
       "      <td>object</td>\n",
       "      <td>False</td>\n",
       "      <td>47976</td>\n",
       "    </tr>\n",
       "    <tr>\n",
       "      <th>2</th>\n",
       "      <td>source_genesymbol</td>\n",
       "      <td>object</td>\n",
       "      <td>False</td>\n",
       "      <td>22117</td>\n",
       "    </tr>\n",
       "    <tr>\n",
       "      <th>3</th>\n",
       "      <td>target_genesymbol</td>\n",
       "      <td>object</td>\n",
       "      <td>False</td>\n",
       "      <td>36930</td>\n",
       "    </tr>\n",
       "    <tr>\n",
       "      <th>4</th>\n",
       "      <td>is_directed</td>\n",
       "      <td>int64</td>\n",
       "      <td>False</td>\n",
       "      <td>2</td>\n",
       "    </tr>\n",
       "    <tr>\n",
       "      <th>5</th>\n",
       "      <td>is_stimulation</td>\n",
       "      <td>int64</td>\n",
       "      <td>False</td>\n",
       "      <td>2</td>\n",
       "    </tr>\n",
       "    <tr>\n",
       "      <th>6</th>\n",
       "      <td>is_inhibition</td>\n",
       "      <td>int64</td>\n",
       "      <td>False</td>\n",
       "      <td>2</td>\n",
       "    </tr>\n",
       "    <tr>\n",
       "      <th>7</th>\n",
       "      <td>consensus_direction</td>\n",
       "      <td>int64</td>\n",
       "      <td>False</td>\n",
       "      <td>2</td>\n",
       "    </tr>\n",
       "    <tr>\n",
       "      <th>8</th>\n",
       "      <td>consensus_stimulation</td>\n",
       "      <td>int64</td>\n",
       "      <td>False</td>\n",
       "      <td>2</td>\n",
       "    </tr>\n",
       "    <tr>\n",
       "      <th>9</th>\n",
       "      <td>consensus_inhibition</td>\n",
       "      <td>int64</td>\n",
       "      <td>False</td>\n",
       "      <td>2</td>\n",
       "    </tr>\n",
       "    <tr>\n",
       "      <th>10</th>\n",
       "      <td>sources</td>\n",
       "      <td>object</td>\n",
       "      <td>False</td>\n",
       "      <td>16258</td>\n",
       "    </tr>\n",
       "    <tr>\n",
       "      <th>11</th>\n",
       "      <td>references</td>\n",
       "      <td>object</td>\n",
       "      <td>True</td>\n",
       "      <td>82752</td>\n",
       "    </tr>\n",
       "    <tr>\n",
       "      <th>12</th>\n",
       "      <td>omnipath</td>\n",
       "      <td>bool</td>\n",
       "      <td>False</td>\n",
       "      <td>2</td>\n",
       "    </tr>\n",
       "    <tr>\n",
       "      <th>13</th>\n",
       "      <td>kinaseextra</td>\n",
       "      <td>bool</td>\n",
       "      <td>False</td>\n",
       "      <td>2</td>\n",
       "    </tr>\n",
       "    <tr>\n",
       "      <th>14</th>\n",
       "      <td>ligrecextra</td>\n",
       "      <td>bool</td>\n",
       "      <td>False</td>\n",
       "      <td>2</td>\n",
       "    </tr>\n",
       "    <tr>\n",
       "      <th>15</th>\n",
       "      <td>pathwayextra</td>\n",
       "      <td>bool</td>\n",
       "      <td>False</td>\n",
       "      <td>2</td>\n",
       "    </tr>\n",
       "    <tr>\n",
       "      <th>16</th>\n",
       "      <td>mirnatarget</td>\n",
       "      <td>bool</td>\n",
       "      <td>False</td>\n",
       "      <td>2</td>\n",
       "    </tr>\n",
       "    <tr>\n",
       "      <th>17</th>\n",
       "      <td>dorothea</td>\n",
       "      <td>bool</td>\n",
       "      <td>False</td>\n",
       "      <td>2</td>\n",
       "    </tr>\n",
       "    <tr>\n",
       "      <th>18</th>\n",
       "      <td>collectri</td>\n",
       "      <td>bool</td>\n",
       "      <td>False</td>\n",
       "      <td>2</td>\n",
       "    </tr>\n",
       "    <tr>\n",
       "      <th>19</th>\n",
       "      <td>tf_target</td>\n",
       "      <td>bool</td>\n",
       "      <td>False</td>\n",
       "      <td>2</td>\n",
       "    </tr>\n",
       "    <tr>\n",
       "      <th>20</th>\n",
       "      <td>lncrna_mrna</td>\n",
       "      <td>bool</td>\n",
       "      <td>False</td>\n",
       "      <td>2</td>\n",
       "    </tr>\n",
       "    <tr>\n",
       "      <th>21</th>\n",
       "      <td>tf_mirna</td>\n",
       "      <td>bool</td>\n",
       "      <td>False</td>\n",
       "      <td>2</td>\n",
       "    </tr>\n",
       "    <tr>\n",
       "      <th>22</th>\n",
       "      <td>small_molecule</td>\n",
       "      <td>bool</td>\n",
       "      <td>False</td>\n",
       "      <td>2</td>\n",
       "    </tr>\n",
       "    <tr>\n",
       "      <th>23</th>\n",
       "      <td>dorothea_curated</td>\n",
       "      <td>object</td>\n",
       "      <td>True</td>\n",
       "      <td>5</td>\n",
       "    </tr>\n",
       "    <tr>\n",
       "      <th>24</th>\n",
       "      <td>dorothea_chipseq</td>\n",
       "      <td>object</td>\n",
       "      <td>True</td>\n",
       "      <td>5</td>\n",
       "    </tr>\n",
       "    <tr>\n",
       "      <th>25</th>\n",
       "      <td>dorothea_tfbs</td>\n",
       "      <td>object</td>\n",
       "      <td>True</td>\n",
       "      <td>5</td>\n",
       "    </tr>\n",
       "    <tr>\n",
       "      <th>26</th>\n",
       "      <td>dorothea_coexp</td>\n",
       "      <td>object</td>\n",
       "      <td>True</td>\n",
       "      <td>5</td>\n",
       "    </tr>\n",
       "    <tr>\n",
       "      <th>27</th>\n",
       "      <td>dorothea_level</td>\n",
       "      <td>object</td>\n",
       "      <td>True</td>\n",
       "      <td>7</td>\n",
       "    </tr>\n",
       "    <tr>\n",
       "      <th>28</th>\n",
       "      <td>type</td>\n",
       "      <td>object</td>\n",
       "      <td>False</td>\n",
       "      <td>6</td>\n",
       "    </tr>\n",
       "    <tr>\n",
       "      <th>29</th>\n",
       "      <td>curation_effort</td>\n",
       "      <td>int64</td>\n",
       "      <td>False</td>\n",
       "      <td>164</td>\n",
       "    </tr>\n",
       "    <tr>\n",
       "      <th>30</th>\n",
       "      <td>extra_attrs</td>\n",
       "      <td>object</td>\n",
       "      <td>False</td>\n",
       "      <td>13856</td>\n",
       "    </tr>\n",
       "    <tr>\n",
       "      <th>31</th>\n",
       "      <td>evidences</td>\n",
       "      <td>object</td>\n",
       "      <td>False</td>\n",
       "      <td>1217747</td>\n",
       "    </tr>\n",
       "    <tr>\n",
       "      <th>32</th>\n",
       "      <td>ncbi_tax_id_source</td>\n",
       "      <td>int64</td>\n",
       "      <td>False</td>\n",
       "      <td>4</td>\n",
       "    </tr>\n",
       "    <tr>\n",
       "      <th>33</th>\n",
       "      <td>entity_type_source</td>\n",
       "      <td>object</td>\n",
       "      <td>False</td>\n",
       "      <td>5</td>\n",
       "    </tr>\n",
       "    <tr>\n",
       "      <th>34</th>\n",
       "      <td>ncbi_tax_id_target</td>\n",
       "      <td>int64</td>\n",
       "      <td>False</td>\n",
       "      <td>4</td>\n",
       "    </tr>\n",
       "    <tr>\n",
       "      <th>35</th>\n",
       "      <td>entity_type_target</td>\n",
       "      <td>object</td>\n",
       "      <td>False</td>\n",
       "      <td>4</td>\n",
       "    </tr>\n",
       "  </tbody>\n",
       "</table>\n",
       "</div>"
      ],
      "text/plain": [
       "              Column Name Data Type  Nullable  Unique Values\n",
       "0                  source    object     False          27944\n",
       "1                  target    object     False          47976\n",
       "2       source_genesymbol    object     False          22117\n",
       "3       target_genesymbol    object     False          36930\n",
       "4             is_directed     int64     False              2\n",
       "5          is_stimulation     int64     False              2\n",
       "6           is_inhibition     int64     False              2\n",
       "7     consensus_direction     int64     False              2\n",
       "8   consensus_stimulation     int64     False              2\n",
       "9    consensus_inhibition     int64     False              2\n",
       "10                sources    object     False          16258\n",
       "11             references    object      True          82752\n",
       "12               omnipath      bool     False              2\n",
       "13            kinaseextra      bool     False              2\n",
       "14            ligrecextra      bool     False              2\n",
       "15           pathwayextra      bool     False              2\n",
       "16            mirnatarget      bool     False              2\n",
       "17               dorothea      bool     False              2\n",
       "18              collectri      bool     False              2\n",
       "19              tf_target      bool     False              2\n",
       "20            lncrna_mrna      bool     False              2\n",
       "21               tf_mirna      bool     False              2\n",
       "22         small_molecule      bool     False              2\n",
       "23       dorothea_curated    object      True              5\n",
       "24       dorothea_chipseq    object      True              5\n",
       "25          dorothea_tfbs    object      True              5\n",
       "26         dorothea_coexp    object      True              5\n",
       "27         dorothea_level    object      True              7\n",
       "28                   type    object     False              6\n",
       "29        curation_effort     int64     False            164\n",
       "30            extra_attrs    object     False          13856\n",
       "31              evidences    object     False        1217747\n",
       "32     ncbi_tax_id_source     int64     False              4\n",
       "33     entity_type_source    object     False              5\n",
       "34     ncbi_tax_id_target     int64     False              4\n",
       "35     entity_type_target    object     False              4"
      ]
     },
     "execution_count": 31,
     "metadata": {},
     "output_type": "execute_result"
    }
   ],
   "source": [
    "metadata = pd.DataFrame({\n",
    "    'Column Name': networks_df.columns,\n",
    "    'Data Type': networks_df.dtypes.values,\n",
    "    'Nullable': networks_df.isnull().any().values,\n",
    "    'Unique Values': [networks_df[col].nunique() for col in networks_df.columns]\n",
    "})\n",
    "\n",
    "metadata"
   ]
  },
  {
   "cell_type": "markdown",
   "metadata": {},
   "source": [
    "To know all the unique values in a certain column, just type the column's name in the variable *field*:"
   ]
  },
  {
   "cell_type": "code",
   "execution_count": 32,
   "metadata": {},
   "outputs": [
    {
     "name": "stdout",
     "output_type": "stream",
     "text": [
      "List of unique values in field: dorothea_curated\n",
      "\t[nan True False 'True' 'False' '1']\n"
     ]
    }
   ],
   "source": [
    "field = \"dorothea_curated\"\n",
    "\n",
    "print(\"List of unique values in field: {}\\n\\t{}\".format(field, networks_df[field].unique()))"
   ]
  },
  {
   "cell_type": "markdown",
   "metadata": {},
   "source": [
    "## Section 3. Free Exploratory Analysis\n",
    "\n",
    "In this section you can explore the data as you want, it means you can filter, select columns, counting values, etc. Feel free to explore as much you want."
   ]
  },
  {
   "cell_type": "code",
   "execution_count": 36,
   "metadata": {},
   "outputs": [],
   "source": [
    "value_counts_per_columnb = {col: networks_df[col].value_counts() for col in networks_df.columns}"
   ]
  },
  {
   "cell_type": "code",
   "execution_count": 37,
   "metadata": {},
   "outputs": [
    {
     "data": {
      "text/plain": [
       "type\n",
       "transcriptional                866068\n",
       "post_translational             331753\n",
       "post_transcriptional            11118\n",
       "mirna_transcriptional            4961\n",
       "small_molecule_protein           3819\n",
       "lncrna_post_transcriptional       181\n",
       "Name: count, dtype: int64"
      ]
     },
     "execution_count": 37,
     "metadata": {},
     "output_type": "execute_result"
    }
   ],
   "source": [
    "value_counts_per_column['type']"
   ]
  },
  {
   "cell_type": "code",
   "execution_count": 22,
   "metadata": {},
   "outputs": [],
   "source": [
    "def flatten(xss):\n",
    "    return [x for xs in xss for x in xs]\n",
    "\n",
    "out = pd.Series(flatten(networks_df.sources.str.split(\";\").tolist()))"
   ]
  },
  {
   "cell_type": "code",
   "execution_count": 39,
   "metadata": {},
   "outputs": [
    {
     "data": {
      "text/plain": [
       "np.int64(10)"
      ]
     },
     "execution_count": 39,
     "metadata": {},
     "output_type": "execute_result"
    }
   ],
   "source": [
    "networks_df.sources.value_counts()[\"Wang\"]"
   ]
  },
  {
   "cell_type": "markdown",
   "metadata": {},
   "source": [
    "### Counting Null values"
   ]
  },
  {
   "cell_type": "code",
   "execution_count": null,
   "metadata": {},
   "outputs": [],
   "source": [
    "networks_df.references[networks_df['references'].isnull()]"
   ]
  },
  {
   "cell_type": "markdown",
   "metadata": {},
   "source": [
    "### Counting Null "
   ]
  },
  {
   "cell_type": "code",
   "execution_count": null,
   "metadata": {},
   "outputs": [],
   "source": [
    "num_nulls_in_dorothea_curated = networks_df['references'].isnull().sum()\n",
    "num_nulls_in_dorothea_curated"
   ]
  },
  {
   "cell_type": "markdown",
   "metadata": {},
   "source": [
    "### Counting True values"
   ]
  },
  {
   "cell_type": "code",
   "execution_count": null,
   "metadata": {},
   "outputs": [],
   "source": [
    "num_True_in_dorothea_curated = (networks_df.dorothea_curated==True).sum()\n",
    "num_True_in_dorothea_curated"
   ]
  },
  {
   "cell_type": "markdown",
   "metadata": {},
   "source": [
    "### Counting \"True\" values"
   ]
  },
  {
   "cell_type": "code",
   "execution_count": null,
   "metadata": {},
   "outputs": [],
   "source": [
    "num_true_in_dorothea_curated = (networks_df.dorothea_curated==\"True\").sum()\n",
    "num_true_in_dorothea_curated"
   ]
  },
  {
   "cell_type": "markdown",
   "metadata": {},
   "source": [
    "### Counting 1 values"
   ]
  },
  {
   "cell_type": "code",
   "execution_count": null,
   "metadata": {},
   "outputs": [],
   "source": [
    "num_one_in_dorothea_curated = (networks_df.dorothea_curated==\"1\").sum()\n",
    "num_one_in_dorothea_curated"
   ]
  },
  {
   "cell_type": "markdown",
   "metadata": {},
   "source": [
    "### Counting False values"
   ]
  },
  {
   "cell_type": "code",
   "execution_count": null,
   "metadata": {},
   "outputs": [],
   "source": [
    "num_False_in_dorothea_curated = (networks_df.dorothea_curated==False).sum()\n",
    "num_False_in_dorothea_curated"
   ]
  },
  {
   "cell_type": "markdown",
   "metadata": {},
   "source": [
    "### Counting \"False\" values"
   ]
  },
  {
   "cell_type": "code",
   "execution_count": null,
   "metadata": {},
   "outputs": [],
   "source": [
    "num_false_in_dorothea_curated = (networks_df.dorothea_curated==\"False\").sum()\n",
    "num_false_in_dorothea_curated"
   ]
  },
  {
   "cell_type": "markdown",
   "metadata": {},
   "source": [
    "### Filtering"
   ]
  },
  {
   "cell_type": "code",
   "execution_count": null,
   "metadata": {},
   "outputs": [],
   "source": [
    "filtered = networks_df[(networks_df[\"source\"]==\"Q16254\")\n",
    "                         & (networks_df[\"target\"]==\"O43683\")]\n",
    "#filtered[[\"source\", \"target\", \"is_stimulation\", \"omnipath\"]]\n",
    "\n",
    "filtered"
   ]
  },
  {
   "cell_type": "code",
   "execution_count": null,
   "metadata": {},
   "outputs": [],
   "source": [
    "omnipath_df = networks_df[(networks_df[\"omnipath\"])==True]\n",
    "omnipath_df.info()"
   ]
  },
  {
   "cell_type": "code",
   "execution_count": null,
   "metadata": {},
   "outputs": [],
   "source": [
    "omnipath_df[(omnipath_df[\"source\"])==(omnipath_df[\"target\"])]"
   ]
  },
  {
   "cell_type": "markdown",
   "metadata": {},
   "source": [
    "### Finding the neighbors of a certain protein"
   ]
  },
  {
   "cell_type": "code",
   "execution_count": null,
   "metadata": {},
   "outputs": [
    {
     "data": {
      "text/html": [
       "<div>\n",
       "<style scoped>\n",
       "    .dataframe tbody tr th:only-of-type {\n",
       "        vertical-align: middle;\n",
       "    }\n",
       "\n",
       "    .dataframe tbody tr th {\n",
       "        vertical-align: top;\n",
       "    }\n",
       "\n",
       "    .dataframe thead th {\n",
       "        text-align: right;\n",
       "    }\n",
       "</style>\n",
       "<table border=\"1\" class=\"dataframe\">\n",
       "  <thead>\n",
       "    <tr style=\"text-align: right;\">\n",
       "      <th></th>\n",
       "      <th>source</th>\n",
       "      <th>target</th>\n",
       "      <th>source_genesymbol</th>\n",
       "      <th>target_genesymbol</th>\n",
       "      <th>is_directed</th>\n",
       "      <th>is_stimulation</th>\n",
       "      <th>is_inhibition</th>\n",
       "      <th>consensus_direction</th>\n",
       "      <th>consensus_stimulation</th>\n",
       "      <th>consensus_inhibition</th>\n",
       "      <th>...</th>\n",
       "      <th>dorothea_coexp</th>\n",
       "      <th>dorothea_level</th>\n",
       "      <th>type</th>\n",
       "      <th>curation_effort</th>\n",
       "      <th>extra_attrs</th>\n",
       "      <th>evidences</th>\n",
       "      <th>ncbi_tax_id_source</th>\n",
       "      <th>entity_type_source</th>\n",
       "      <th>ncbi_tax_id_target</th>\n",
       "      <th>entity_type_target</th>\n",
       "    </tr>\n",
       "  </thead>\n",
       "  <tbody>\n",
       "    <tr>\n",
       "      <th>2843</th>\n",
       "      <td>P21359</td>\n",
       "      <td>P01112</td>\n",
       "      <td>NF1</td>\n",
       "      <td>HRAS</td>\n",
       "      <td>1</td>\n",
       "      <td>1</td>\n",
       "      <td>1</td>\n",
       "      <td>1</td>\n",
       "      <td>0</td>\n",
       "      <td>1</td>\n",
       "      <td>...</td>\n",
       "      <td>NaN</td>\n",
       "      <td>NaN</td>\n",
       "      <td>post_translational</td>\n",
       "      <td>7</td>\n",
       "      <td>{\"SPIKE_effect\":\"1\",\"SPIKE_mechanism\":\"Other\",...</td>\n",
       "      <td>{\"id_a\":\"P21359\",\"id_b\":\"P01112\",\"positive\":[{...</td>\n",
       "      <td>9606</td>\n",
       "      <td>protein</td>\n",
       "      <td>9606</td>\n",
       "      <td>protein</td>\n",
       "    </tr>\n",
       "    <tr>\n",
       "      <th>5161</th>\n",
       "      <td>P17947</td>\n",
       "      <td>P21359</td>\n",
       "      <td>SPI1</td>\n",
       "      <td>NF1</td>\n",
       "      <td>1</td>\n",
       "      <td>0</td>\n",
       "      <td>0</td>\n",
       "      <td>0</td>\n",
       "      <td>0</td>\n",
       "      <td>0</td>\n",
       "      <td>...</td>\n",
       "      <td>NaN</td>\n",
       "      <td>NaN</td>\n",
       "      <td>post_translational</td>\n",
       "      <td>2</td>\n",
       "      <td>{\"SPIKE_effect\":\"3\",\"SPIKE_mechanism\":\"Transcr...</td>\n",
       "      <td>{\"id_a\":\"P17947\",\"id_b\":\"P21359\",\"positive\":[]...</td>\n",
       "      <td>9606</td>\n",
       "      <td>protein</td>\n",
       "      <td>9606</td>\n",
       "      <td>protein</td>\n",
       "    </tr>\n",
       "    <tr>\n",
       "      <th>11368</th>\n",
       "      <td>P21359</td>\n",
       "      <td>P01111</td>\n",
       "      <td>NF1</td>\n",
       "      <td>NRAS</td>\n",
       "      <td>1</td>\n",
       "      <td>0</td>\n",
       "      <td>1</td>\n",
       "      <td>1</td>\n",
       "      <td>0</td>\n",
       "      <td>1</td>\n",
       "      <td>...</td>\n",
       "      <td>NaN</td>\n",
       "      <td>NaN</td>\n",
       "      <td>post_translational</td>\n",
       "      <td>2</td>\n",
       "      <td>{\"CA1_effect\":\"_\",\"CA1_type\":\"Binding\"}</td>\n",
       "      <td>{\"id_a\":\"P21359\",\"id_b\":\"P01111\",\"positive\":[]...</td>\n",
       "      <td>9606</td>\n",
       "      <td>protein</td>\n",
       "      <td>9606</td>\n",
       "      <td>protein</td>\n",
       "    </tr>\n",
       "    <tr>\n",
       "      <th>71568</th>\n",
       "      <td>Q9UBF6</td>\n",
       "      <td>P21359</td>\n",
       "      <td>RNF7</td>\n",
       "      <td>NF1</td>\n",
       "      <td>1</td>\n",
       "      <td>0</td>\n",
       "      <td>1</td>\n",
       "      <td>1</td>\n",
       "      <td>0</td>\n",
       "      <td>1</td>\n",
       "      <td>...</td>\n",
       "      <td>NaN</td>\n",
       "      <td>NaN</td>\n",
       "      <td>post_translational</td>\n",
       "      <td>1</td>\n",
       "      <td>{\"SIGNOR_mechanism\":[\"ubiquitination\"]}</td>\n",
       "      <td>{\"id_a\":\"Q9UBF6\",\"id_b\":\"P21359\",\"positive\":[]...</td>\n",
       "      <td>9606</td>\n",
       "      <td>protein</td>\n",
       "      <td>9606</td>\n",
       "      <td>protein</td>\n",
       "    </tr>\n",
       "    <tr>\n",
       "      <th>81529</th>\n",
       "      <td>P17252</td>\n",
       "      <td>P21359</td>\n",
       "      <td>PRKCA</td>\n",
       "      <td>NF1</td>\n",
       "      <td>1</td>\n",
       "      <td>0</td>\n",
       "      <td>0</td>\n",
       "      <td>0</td>\n",
       "      <td>0</td>\n",
       "      <td>0</td>\n",
       "      <td>...</td>\n",
       "      <td>NaN</td>\n",
       "      <td>NaN</td>\n",
       "      <td>post_translational</td>\n",
       "      <td>2</td>\n",
       "      <td>{\"PhosphoSite_evidence\":[\"AB\",\"WB\",\"MA\"]}</td>\n",
       "      <td>{\"id_a\":\"P17252\",\"id_b\":\"P21359\",\"positive\":[]...</td>\n",
       "      <td>9606</td>\n",
       "      <td>protein</td>\n",
       "      <td>9606</td>\n",
       "      <td>protein</td>\n",
       "    </tr>\n",
       "    <tr>\n",
       "      <th>...</th>\n",
       "      <td>...</td>\n",
       "      <td>...</td>\n",
       "      <td>...</td>\n",
       "      <td>...</td>\n",
       "      <td>...</td>\n",
       "      <td>...</td>\n",
       "      <td>...</td>\n",
       "      <td>...</td>\n",
       "      <td>...</td>\n",
       "      <td>...</td>\n",
       "      <td>...</td>\n",
       "      <td>...</td>\n",
       "      <td>...</td>\n",
       "      <td>...</td>\n",
       "      <td>...</td>\n",
       "      <td>...</td>\n",
       "      <td>...</td>\n",
       "      <td>...</td>\n",
       "      <td>...</td>\n",
       "      <td>...</td>\n",
       "      <td>...</td>\n",
       "    </tr>\n",
       "    <tr>\n",
       "      <th>1215792</th>\n",
       "      <td>10288191</td>\n",
       "      <td>P21359</td>\n",
       "      <td>BINIMETINIB</td>\n",
       "      <td>NF1</td>\n",
       "      <td>1</td>\n",
       "      <td>0</td>\n",
       "      <td>0</td>\n",
       "      <td>0</td>\n",
       "      <td>0</td>\n",
       "      <td>0</td>\n",
       "      <td>...</td>\n",
       "      <td>NaN</td>\n",
       "      <td>NaN</td>\n",
       "      <td>small_molecule_protein</td>\n",
       "      <td>0</td>\n",
       "      <td>{}</td>\n",
       "      <td>{\"id_a\":\"10288191\",\"id_b\":\"P21359\",\"positive\":...</td>\n",
       "      <td>-1</td>\n",
       "      <td>small_molecule</td>\n",
       "      <td>9606</td>\n",
       "      <td>protein</td>\n",
       "    </tr>\n",
       "    <tr>\n",
       "      <th>1216019</th>\n",
       "      <td>16222096</td>\n",
       "      <td>P21359</td>\n",
       "      <td>COTELLIC</td>\n",
       "      <td>NF1</td>\n",
       "      <td>1</td>\n",
       "      <td>0</td>\n",
       "      <td>0</td>\n",
       "      <td>0</td>\n",
       "      <td>0</td>\n",
       "      <td>0</td>\n",
       "      <td>...</td>\n",
       "      <td>NaN</td>\n",
       "      <td>NaN</td>\n",
       "      <td>small_molecule_protein</td>\n",
       "      <td>0</td>\n",
       "      <td>{}</td>\n",
       "      <td>{\"id_a\":\"16222096\",\"id_b\":\"P21359\",\"positive\":...</td>\n",
       "      <td>-1</td>\n",
       "      <td>small_molecule</td>\n",
       "      <td>9606</td>\n",
       "      <td>protein</td>\n",
       "    </tr>\n",
       "    <tr>\n",
       "      <th>1216108</th>\n",
       "      <td>44462760</td>\n",
       "      <td>P21359</td>\n",
       "      <td>DABRAFENIB</td>\n",
       "      <td>NF1</td>\n",
       "      <td>1</td>\n",
       "      <td>0</td>\n",
       "      <td>0</td>\n",
       "      <td>0</td>\n",
       "      <td>0</td>\n",
       "      <td>0</td>\n",
       "      <td>...</td>\n",
       "      <td>NaN</td>\n",
       "      <td>NaN</td>\n",
       "      <td>small_molecule_protein</td>\n",
       "      <td>0</td>\n",
       "      <td>{}</td>\n",
       "      <td>{\"id_a\":\"44462760\",\"id_b\":\"P21359\",\"positive\":...</td>\n",
       "      <td>-1</td>\n",
       "      <td>small_molecule</td>\n",
       "      <td>9606</td>\n",
       "      <td>protein</td>\n",
       "    </tr>\n",
       "    <tr>\n",
       "      <th>1217393</th>\n",
       "      <td>11707110</td>\n",
       "      <td>P21359</td>\n",
       "      <td>TRAMETINIB</td>\n",
       "      <td>NF1</td>\n",
       "      <td>1</td>\n",
       "      <td>0</td>\n",
       "      <td>0</td>\n",
       "      <td>0</td>\n",
       "      <td>0</td>\n",
       "      <td>0</td>\n",
       "      <td>...</td>\n",
       "      <td>NaN</td>\n",
       "      <td>NaN</td>\n",
       "      <td>small_molecule_protein</td>\n",
       "      <td>0</td>\n",
       "      <td>{}</td>\n",
       "      <td>{\"id_a\":\"11707110\",\"id_b\":\"P21359\",\"positive\":...</td>\n",
       "      <td>-1</td>\n",
       "      <td>small_molecule</td>\n",
       "      <td>9606</td>\n",
       "      <td>protein</td>\n",
       "    </tr>\n",
       "    <tr>\n",
       "      <th>1217451</th>\n",
       "      <td>42611257</td>\n",
       "      <td>P21359</td>\n",
       "      <td>ZELBORAF</td>\n",
       "      <td>NF1</td>\n",
       "      <td>1</td>\n",
       "      <td>0</td>\n",
       "      <td>0</td>\n",
       "      <td>0</td>\n",
       "      <td>0</td>\n",
       "      <td>0</td>\n",
       "      <td>...</td>\n",
       "      <td>NaN</td>\n",
       "      <td>NaN</td>\n",
       "      <td>small_molecule_protein</td>\n",
       "      <td>0</td>\n",
       "      <td>{}</td>\n",
       "      <td>{\"id_a\":\"42611257\",\"id_b\":\"P21359\",\"positive\":...</td>\n",
       "      <td>-1</td>\n",
       "      <td>small_molecule</td>\n",
       "      <td>9606</td>\n",
       "      <td>protein</td>\n",
       "    </tr>\n",
       "  </tbody>\n",
       "</table>\n",
       "<p>92 rows × 36 columns</p>\n",
       "</div>"
      ],
      "text/plain": [
       "           source  target source_genesymbol target_genesymbol  is_directed  \\\n",
       "2843       P21359  P01112               NF1              HRAS            1   \n",
       "5161       P17947  P21359              SPI1               NF1            1   \n",
       "11368      P21359  P01111               NF1              NRAS            1   \n",
       "71568      Q9UBF6  P21359              RNF7               NF1            1   \n",
       "81529      P17252  P21359             PRKCA               NF1            1   \n",
       "...           ...     ...               ...               ...          ...   \n",
       "1215792  10288191  P21359       BINIMETINIB               NF1            1   \n",
       "1216019  16222096  P21359          COTELLIC               NF1            1   \n",
       "1216108  44462760  P21359        DABRAFENIB               NF1            1   \n",
       "1217393  11707110  P21359        TRAMETINIB               NF1            1   \n",
       "1217451  42611257  P21359          ZELBORAF               NF1            1   \n",
       "\n",
       "         is_stimulation  is_inhibition  consensus_direction  \\\n",
       "2843                  1              1                    1   \n",
       "5161                  0              0                    0   \n",
       "11368                 0              1                    1   \n",
       "71568                 0              1                    1   \n",
       "81529                 0              0                    0   \n",
       "...                 ...            ...                  ...   \n",
       "1215792               0              0                    0   \n",
       "1216019               0              0                    0   \n",
       "1216108               0              0                    0   \n",
       "1217393               0              0                    0   \n",
       "1217451               0              0                    0   \n",
       "\n",
       "         consensus_stimulation  consensus_inhibition  ... dorothea_coexp  \\\n",
       "2843                         0                     1  ...            NaN   \n",
       "5161                         0                     0  ...            NaN   \n",
       "11368                        0                     1  ...            NaN   \n",
       "71568                        0                     1  ...            NaN   \n",
       "81529                        0                     0  ...            NaN   \n",
       "...                        ...                   ...  ...            ...   \n",
       "1215792                      0                     0  ...            NaN   \n",
       "1216019                      0                     0  ...            NaN   \n",
       "1216108                      0                     0  ...            NaN   \n",
       "1217393                      0                     0  ...            NaN   \n",
       "1217451                      0                     0  ...            NaN   \n",
       "\n",
       "        dorothea_level                    type  curation_effort  \\\n",
       "2843               NaN      post_translational                7   \n",
       "5161               NaN      post_translational                2   \n",
       "11368              NaN      post_translational                2   \n",
       "71568              NaN      post_translational                1   \n",
       "81529              NaN      post_translational                2   \n",
       "...                ...                     ...              ...   \n",
       "1215792            NaN  small_molecule_protein                0   \n",
       "1216019            NaN  small_molecule_protein                0   \n",
       "1216108            NaN  small_molecule_protein                0   \n",
       "1217393            NaN  small_molecule_protein                0   \n",
       "1217451            NaN  small_molecule_protein                0   \n",
       "\n",
       "                                               extra_attrs  \\\n",
       "2843     {\"SPIKE_effect\":\"1\",\"SPIKE_mechanism\":\"Other\",...   \n",
       "5161     {\"SPIKE_effect\":\"3\",\"SPIKE_mechanism\":\"Transcr...   \n",
       "11368              {\"CA1_effect\":\"_\",\"CA1_type\":\"Binding\"}   \n",
       "71568              {\"SIGNOR_mechanism\":[\"ubiquitination\"]}   \n",
       "81529            {\"PhosphoSite_evidence\":[\"AB\",\"WB\",\"MA\"]}   \n",
       "...                                                    ...   \n",
       "1215792                                                 {}   \n",
       "1216019                                                 {}   \n",
       "1216108                                                 {}   \n",
       "1217393                                                 {}   \n",
       "1217451                                                 {}   \n",
       "\n",
       "                                                 evidences  \\\n",
       "2843     {\"id_a\":\"P21359\",\"id_b\":\"P01112\",\"positive\":[{...   \n",
       "5161     {\"id_a\":\"P17947\",\"id_b\":\"P21359\",\"positive\":[]...   \n",
       "11368    {\"id_a\":\"P21359\",\"id_b\":\"P01111\",\"positive\":[]...   \n",
       "71568    {\"id_a\":\"Q9UBF6\",\"id_b\":\"P21359\",\"positive\":[]...   \n",
       "81529    {\"id_a\":\"P17252\",\"id_b\":\"P21359\",\"positive\":[]...   \n",
       "...                                                    ...   \n",
       "1215792  {\"id_a\":\"10288191\",\"id_b\":\"P21359\",\"positive\":...   \n",
       "1216019  {\"id_a\":\"16222096\",\"id_b\":\"P21359\",\"positive\":...   \n",
       "1216108  {\"id_a\":\"44462760\",\"id_b\":\"P21359\",\"positive\":...   \n",
       "1217393  {\"id_a\":\"11707110\",\"id_b\":\"P21359\",\"positive\":...   \n",
       "1217451  {\"id_a\":\"42611257\",\"id_b\":\"P21359\",\"positive\":...   \n",
       "\n",
       "         ncbi_tax_id_source  entity_type_source  ncbi_tax_id_target  \\\n",
       "2843                   9606             protein                9606   \n",
       "5161                   9606             protein                9606   \n",
       "11368                  9606             protein                9606   \n",
       "71568                  9606             protein                9606   \n",
       "81529                  9606             protein                9606   \n",
       "...                     ...                 ...                 ...   \n",
       "1215792                  -1      small_molecule                9606   \n",
       "1216019                  -1      small_molecule                9606   \n",
       "1216108                  -1      small_molecule                9606   \n",
       "1217393                  -1      small_molecule                9606   \n",
       "1217451                  -1      small_molecule                9606   \n",
       "\n",
       "         entity_type_target  \n",
       "2843                protein  \n",
       "5161                protein  \n",
       "11368               protein  \n",
       "71568               protein  \n",
       "81529               protein  \n",
       "...                     ...  \n",
       "1215792             protein  \n",
       "1216019             protein  \n",
       "1216108             protein  \n",
       "1217393             protein  \n",
       "1217451             protein  \n",
       "\n",
       "[92 rows x 36 columns]"
      ]
     },
     "execution_count": 50,
     "metadata": {},
     "output_type": "execute_result"
    }
   ],
   "source": [
    "neighbors = networks_df[(networks_df['source_genesymbol']=='NF1') | (networks_df['target_genesymbol']=='NF1')]\n",
    "neighbors"
   ]
  },
  {
   "cell_type": "code",
   "execution_count": 52,
   "metadata": {},
   "outputs": [
    {
     "data": {
      "text/plain": [
       "type\n",
       "transcriptional           52\n",
       "post_translational        27\n",
       "post_transcriptional       6\n",
       "small_molecule_protein     5\n",
       "mirna_transcriptional      2\n",
       "Name: count, dtype: int64"
      ]
     },
     "execution_count": 52,
     "metadata": {},
     "output_type": "execute_result"
    }
   ],
   "source": [
    "neighbors.type.value_counts()"
   ]
  },
  {
   "cell_type": "code",
   "execution_count": 53,
   "metadata": {},
   "outputs": [
    {
     "data": {
      "text/plain": [
       "sources\n",
       "Wang                                                                                                                                                              16\n",
       "CollecTRI;ExTRI_CollecTRI                                                                                                                                         16\n",
       "DoRothEA;PAZAR_DoRothEA                                                                                                                                            9\n",
       "miRTarBase                                                                                                                                                         6\n",
       "CancerDrugsDB                                                                                                                                                      5\n",
       "CollecTRI;DoRothEA;TRRUST_CollecTRI;TRRUST_DoRothEA                                                                                                                2\n",
       "CollecTRI;DoRothEA;SIGNOR_CollecTRI;TRRUST_CollecTRI;TRRUST_DoRothEA                                                                                               2\n",
       "CollecTRI;DoRothEA;ExTRI_CollecTRI;NTNU.Curated_CollecTRI;TRRUST_CollecTRI;TRRUST_DoRothEA                                                                         2\n",
       "CollecTRI;DoRothEA;ExTRI_CollecTRI;PAZAR_DoRothEA                                                                                                                  2\n",
       "DoRothEA;ReMap_DoRothEA                                                                                                                                            2\n",
       "KEA;NetworKIN_KEA                                                                                                                                                  2\n",
       "TransmiR                                                                                                                                                           2\n",
       "CollecTRI;ExTRI_CollecTRI;HTRIdb                                                                                                                                   1\n",
       "DoRothEA;JASPAR_DoRothEA;PAZAR_DoRothEA                                                                                                                            1\n",
       "DoRothEA;HOCOMOCO_DoRothEA;JASPAR_DoRothEA;ReMap_DoRothEA                                                                                                          1\n",
       "ABS;ORegAnno                                                                                                                                                       1\n",
       "ENCODE-proximal                                                                                                                                                    1\n",
       "DoRothEA;HTRIdb;PAZAR_DoRothEA                                                                                                                                     1\n",
       "HTRIdb                                                                                                                                                             1\n",
       "CollecTRI;DoRothEA;PAZAR_DoRothEA;TRRUST_CollecTRI;TRRUST_DoRothEA                                                                                                 1\n",
       "CollecTRI;DoRothEA;ExTRI_CollecTRI;JASPAR_DoRothEA;PAZAR_DoRothEA                                                                                                  1\n",
       "HPRD;InnateDB;IntAct;KEGG;SIGNOR;SPIKE;SPIKE_LC;Wang                                                                                                               1\n",
       "CollecTRI;DoRothEA;ExTRI_CollecTRI;RegNetwork_DoRothEA;TRED_DoRothEA                                                                                               1\n",
       "CollecTRI;DoRothEA;ExTRI_CollecTRI;PAZAR_DoRothEA;TRRUST_CollecTRI;TRRUST_DoRothEA                                                                                 1\n",
       "SPIKE;SPIKE_LC                                                                                                                                                     1\n",
       "CollecTRI;ExTRI_CollecTRI;NTNU.Curated_CollecTRI                                                                                                                   1\n",
       "CollecTRI;DoRothEA;ExTRI_CollecTRI;NTNU.Curated_CollecTRI;PAZAR_DoRothEA                                                                                           1\n",
       "CollecTRI;DoRothEA;ExTRI_CollecTRI;HOCOMOCO_DoRothEA;NTNU.Curated_CollecTRI;TRRUST_CollecTRI;TRRUST_DoRothEA                                                       1\n",
       "CollecTRI;DoRothEA;ExTRI_CollecTRI;HOCOMOCO_DoRothEA;JASPAR_DoRothEA;NTNU.Curated_CollecTRI;RegNetwork_DoRothEA;TRED_DoRothEA;TRRUST_CollecTRI;TRRUST_DoRothEA     1\n",
       "CollecTRI;DoRothEA;ExTRI_CollecTRI;TFactS_CollecTRI;TRRUST_CollecTRI;TRRUST_DoRothEA                                                                               1\n",
       "BEL-Large-Corpus_ProtMapper;ProtMapper                                                                                                                             1\n",
       "KEGG;Wang                                                                                                                                                          1\n",
       "HPRD;SPIKE_LC;Wang                                                                                                                                                 1\n",
       "HPRD;Lit-BM-17                                                                                                                                                     1\n",
       "KEA;NetworKIN_KEA;PhosphoSite                                                                                                                                      1\n",
       "SIGNOR                                                                                                                                                             1\n",
       "CA1;Cui2007;KEGG;Wang                                                                                                                                              1\n",
       "CollecTRI;DoRothEA;ExTRI_CollecTRI;TRRUST_CollecTRI;TRRUST_DoRothEA                                                                                                1\n",
       "Name: count, dtype: int64"
      ]
     },
     "execution_count": 53,
     "metadata": {},
     "output_type": "execute_result"
    }
   ],
   "source": [
    "neighbors.sources.value_counts()"
   ]
  },
  {
   "cell_type": "code",
   "execution_count": 56,
   "metadata": {},
   "outputs": [
    {
     "data": {
      "text/plain": [
       "sources\n",
       "CancerDrugsDB           30\n",
       "CancerDrugsDB;SIGNOR     2\n",
       "Name: count, dtype: int64"
      ]
     },
     "execution_count": 56,
     "metadata": {},
     "output_type": "execute_result"
    }
   ],
   "source": [
    "trametinib_interactions = networks_df[(networks_df['source_genesymbol']=='TRAMETINIB')]\n",
    "trametinib_interactions.sources.value_counts()"
   ]
  },
  {
   "cell_type": "code",
   "execution_count": null,
   "metadata": {},
   "outputs": [
    {
     "data": {
      "text/plain": [
       "source_genesymbol\n",
       "TOLAK                        63\n",
       "BORTEZOMIB                   63\n",
       "OTREXUP                      61\n",
       "GEMCITABINE                  54\n",
       "KYPROLIS                     50\n",
       "                             ..\n",
       "ALOGLIPTIN                    1\n",
       "68848                         1\n",
       "115111                        1\n",
       "NARATRIPTAN HYDROCHLORIDE     1\n",
       "5312830                       1\n",
       "Name: count, Length: 946, dtype: int64"
      ]
     },
     "execution_count": 58,
     "metadata": {},
     "output_type": "execute_result"
    }
   ],
   "source": [
    "file\n",
    "small_molecule_protein_interactions = networks_df[(networks_df['type']=='small_molecule_protein')]\n",
    "small_molecule_protein_interactions.source_genesymbol.value_counts()"
   ]
  },
  {
   "cell_type": "code",
   "execution_count": 59,
   "metadata": {},
   "outputs": [
    {
     "data": {
      "text/plain": [
       "sources\n",
       "CancerDrugsDB                                     1906\n",
       "SIGNOR                                            1405\n",
       "Cellinker;Guide2Pharma_Cellinker                   308\n",
       "CancerDrugsDB;SIGNOR                               194\n",
       "Cellinker;Guide2Pharma_Cellinker;SIGNOR              5\n",
       "CancerDrugsDB;Cellinker;Guide2Pharma_Cellinker       1\n",
       "Name: count, dtype: int64"
      ]
     },
     "execution_count": 59,
     "metadata": {},
     "output_type": "execute_result"
    }
   ],
   "source": [
    "small_molecule_protein_interactions.sources.value_counts()"
   ]
  },
  {
   "cell_type": "code",
   "execution_count": 61,
   "metadata": {},
   "outputs": [],
   "source": [
    "small_molecule_protein_interactions_filename = \"../data/omnipath_networks/omnipath_webservice_interactions__small_molecule_interactions.tsv.gz\"\n",
    "small_molecule_protein_interactions[small_molecule_protein_interactions['sources']!=\"CancerDrugsDB\"]\n",
    "small_molecule_protein_interactions.to_csv(small_molecule_protein_interactions_filename, sep=\"\\t\", compression='infer')"
   ]
  },
  {
   "cell_type": "markdown",
   "metadata": {},
   "source": [
    "## Section 4. Load the dataset with predefined data types."
   ]
  },
  {
   "cell_type": "code",
   "execution_count": 36,
   "metadata": {},
   "outputs": [],
   "source": [
    "# Data types for interactions\n",
    "dtype = {'source': 'string',\n",
    "         'target': 'string',\n",
    "         'source_genesymbol': 'string',\n",
    "         'target_genesymbol': 'string',\n",
    "         'is_directed': 'boolean',\n",
    "         'is_stimulation': 'boolean',\n",
    "         'is_inhibition': 'boolean',\n",
    "         'consensus_direction': 'boolean',\n",
    "         'consensus_stimulation': 'boolean',\n",
    "         'consensus_inhibition': 'boolean',\n",
    "         'sources': 'string',\n",
    "         'references': 'string',\n",
    "         'omnipath': 'boolean',\n",
    "         'kinaseextra': 'boolean',\n",
    "         'ligrecextra': 'boolean',\n",
    "         'pathwayextra': 'boolean',\n",
    "         'mirnatarget': 'boolean',\n",
    "         'dorothea': 'boolean',\n",
    "         'collectri': 'boolean',\n",
    "         'tf_target': 'boolean',\n",
    "         'lncrna_mrna': 'boolean',\n",
    "         'tf_mirna': 'boolean',\n",
    "         'small_molecule': 'boolean',\n",
    "         'dorothea_curated': 'boolean',\n",
    "         'dorothea_chipseq': 'boolean',\n",
    "         'dorothea_tfbs': 'boolean',\n",
    "         'dorothea_coexp': 'boolean',\n",
    "         'dorothea_level': 'string',\n",
    "         'type': 'string',\n",
    "         'curation_effort': 'Int64',\n",
    "         'extra_attrs': 'string',\n",
    "         'evidences': 'string',\n",
    "         'ncbi_tax_id_source': 'Int64',\n",
    "         'entity_type_source': 'string',\n",
    "         'ncbi_tax_id_target': 'Int64',\n",
    "         'entity_type_target': 'string'\n",
    "}"
   ]
  },
  {
   "cell_type": "code",
   "execution_count": 37,
   "metadata": {},
   "outputs": [],
   "source": [
    "networks_df = pd.read_table(dataset_path_networks, dtype=dtype)"
   ]
  },
  {
   "cell_type": "code",
   "execution_count": 38,
   "metadata": {},
   "outputs": [
    {
     "name": "stdout",
     "output_type": "stream",
     "text": [
      "<class 'pandas.core.frame.DataFrame'>\n",
      "RangeIndex: 1217900 entries, 0 to 1217899\n",
      "Data columns (total 36 columns):\n",
      " #   Column                 Non-Null Count    Dtype  \n",
      "---  ------                 --------------    -----  \n",
      " 0   source                 1217900 non-null  string \n",
      " 1   target                 1217900 non-null  string \n",
      " 2   source_genesymbol      1217900 non-null  string \n",
      " 3   target_genesymbol      1217900 non-null  string \n",
      " 4   is_directed            1217900 non-null  boolean\n",
      " 5   is_stimulation         1217900 non-null  boolean\n",
      " 6   is_inhibition          1217900 non-null  boolean\n",
      " 7   consensus_direction    1217900 non-null  boolean\n",
      " 8   consensus_stimulation  1217900 non-null  boolean\n",
      " 9   consensus_inhibition   1217900 non-null  boolean\n",
      " 10  sources                1217900 non-null  string \n",
      " 11  references             413020 non-null   string \n",
      " 12  omnipath               1217900 non-null  boolean\n",
      " 13  kinaseextra            1217900 non-null  boolean\n",
      " 14  ligrecextra            1217900 non-null  boolean\n",
      " 15  pathwayextra           1217900 non-null  boolean\n",
      " 16  mirnatarget            1217900 non-null  boolean\n",
      " 17  dorothea               1217900 non-null  boolean\n",
      " 18  collectri              1217900 non-null  boolean\n",
      " 19  tf_target              1217900 non-null  boolean\n",
      " 20  lncrna_mrna            1217900 non-null  boolean\n",
      " 21  tf_mirna               1217900 non-null  boolean\n",
      " 22  small_molecule         1217900 non-null  boolean\n",
      " 23  dorothea_curated       666310 non-null   boolean\n",
      " 24  dorothea_chipseq       666310 non-null   boolean\n",
      " 25  dorothea_tfbs          666310 non-null   boolean\n",
      " 26  dorothea_coexp         666310 non-null   boolean\n",
      " 27  dorothea_level         666310 non-null   string \n",
      " 28  type                   1217900 non-null  string \n",
      " 29  curation_effort        1217900 non-null  Int64  \n",
      " 30  extra_attrs            1217900 non-null  string \n",
      " 31  evidences              1217900 non-null  string \n",
      " 32  ncbi_tax_id_source     1217900 non-null  Int64  \n",
      " 33  entity_type_source     1217900 non-null  string \n",
      " 34  ncbi_tax_id_target     1217900 non-null  Int64  \n",
      " 35  entity_type_target     1217900 non-null  string \n",
      "dtypes: Int64(3), boolean(21), string(12)\n",
      "memory usage: 191.6 MB\n"
     ]
    }
   ],
   "source": [
    "networks_df.info()"
   ]
  },
  {
   "cell_type": "markdown",
   "metadata": {},
   "source": [
    "Note that by specifying the datatypes the size of the dataset in memory has been reduced **21.83%**."
   ]
  },
  {
   "cell_type": "code",
   "execution_count": null,
   "metadata": {},
   "outputs": [],
   "source": []
  },
  {
   "cell_type": "code",
   "execution_count": null,
   "metadata": {},
   "outputs": [],
   "source": []
  }
 ],
 "metadata": {
  "kernelspec": {
   "display_name": "biocypher-project-template-dvg7nDUJ-py3.12",
   "language": "python",
   "name": "python3"
  },
  "language_info": {
   "codemirror_mode": {
    "name": "ipython",
    "version": 3
   },
   "file_extension": ".py",
   "mimetype": "text/x-python",
   "name": "python",
   "nbconvert_exporter": "python",
   "pygments_lexer": "ipython3",
   "version": "3.12.8"
  }
 },
 "nbformat": 4,
 "nbformat_minor": 4
}
